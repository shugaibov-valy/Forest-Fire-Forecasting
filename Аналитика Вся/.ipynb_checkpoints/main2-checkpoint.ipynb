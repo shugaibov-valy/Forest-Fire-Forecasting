{
 "cells": [
  {
   "cell_type": "markdown",
   "id": "partial-singing",
   "metadata": {},
   "source": [
    "### Импорт библиотек"
   ]
  },
  {
   "cell_type": "code",
   "execution_count": 1,
   "id": "exotic-yesterday",
   "metadata": {},
   "outputs": [],
   "source": [
    "import matplotlib.pyplot as plt\n",
    "import numpy as np\n",
    "import pandas as pd\n",
    "import seaborn as sns\n",
    "import datetime\n",
    "from sklearn.model_selection import train_test_split, cross_val_score\n",
    "from sklearn.tree import DecisionTreeClassifier\n",
    "import numpy as np\n",
    "\n",
    "\n",
    "%matplotlib inline"
   ]
  },
  {
   "cell_type": "markdown",
   "id": "incorporated-synthetic",
   "metadata": {},
   "source": [
    "### 1. Считываем файл Data.csv"
   ]
  },
  {
   "cell_type": "code",
   "execution_count": 2,
   "id": "anonymous-pressure",
   "metadata": {},
   "outputs": [],
   "source": [
    "df = pd.read_csv(\"main2/Data.csv\") "
   ]
  },
  {
   "cell_type": "code",
   "execution_count": 3,
   "id": "strong-netherlands",
   "metadata": {
    "scrolled": false
   },
   "outputs": [
    {
     "data": {
      "text/html": [
       "<div>\n",
       "<style scoped>\n",
       "    .dataframe tbody tr th:only-of-type {\n",
       "        vertical-align: middle;\n",
       "    }\n",
       "\n",
       "    .dataframe tbody tr th {\n",
       "        vertical-align: top;\n",
       "    }\n",
       "\n",
       "    .dataframe thead th {\n",
       "        text-align: right;\n",
       "    }\n",
       "</style>\n",
       "<table border=\"1\" class=\"dataframe\">\n",
       "  <thead>\n",
       "    <tr style=\"text-align: right;\">\n",
       "      <th></th>\n",
       "      <th>Номер пожара</th>\n",
       "      <th>Дата</th>\n",
       "      <th>X</th>\n",
       "      <th>Y</th>\n",
       "      <th>Площадь, га</th>\n",
       "      <th>температура, °С</th>\n",
       "      <th>относительная влажность, %</th>\n",
       "      <th>влажность почвы (в слое 0-10см), %</th>\n",
       "      <th>атмосферное давление, мбар</th>\n",
       "      <th>Тип растительности</th>\n",
       "    </tr>\n",
       "  </thead>\n",
       "  <tbody>\n",
       "    <tr>\n",
       "      <th>0</th>\n",
       "      <td>203679</td>\n",
       "      <td>7/5/2020</td>\n",
       "      <td>47.4856</td>\n",
       "      <td>42.9225</td>\n",
       "      <td>961</td>\n",
       "      <td>33.758</td>\n",
       "      <td>20.1</td>\n",
       "      <td>16.29</td>\n",
       "      <td>953.5</td>\n",
       "      <td>Луг</td>\n",
       "    </tr>\n",
       "    <tr>\n",
       "      <th>1</th>\n",
       "      <td>220864</td>\n",
       "      <td>7/30/2020</td>\n",
       "      <td>47.5192</td>\n",
       "      <td>42.8835</td>\n",
       "      <td>39</td>\n",
       "      <td>29.325</td>\n",
       "      <td>30.1</td>\n",
       "      <td>20.07</td>\n",
       "      <td>962.1</td>\n",
       "      <td>Луг</td>\n",
       "    </tr>\n",
       "    <tr>\n",
       "      <th>2</th>\n",
       "      <td>203570</td>\n",
       "      <td>7/5/2020</td>\n",
       "      <td>47.5200</td>\n",
       "      <td>42.8793</td>\n",
       "      <td>85</td>\n",
       "      <td>33.758</td>\n",
       "      <td>20.1</td>\n",
       "      <td>16.29</td>\n",
       "      <td>953.5</td>\n",
       "      <td>Луг</td>\n",
       "    </tr>\n",
       "    <tr>\n",
       "      <th>3</th>\n",
       "      <td>264514</td>\n",
       "      <td>10/1/2020</td>\n",
       "      <td>47.5151</td>\n",
       "      <td>42.8768</td>\n",
       "      <td>5</td>\n",
       "      <td>19.844</td>\n",
       "      <td>47.0</td>\n",
       "      <td>22.71</td>\n",
       "      <td>959.2</td>\n",
       "      <td>Луг</td>\n",
       "    </tr>\n",
       "    <tr>\n",
       "      <th>4</th>\n",
       "      <td>192992</td>\n",
       "      <td>6/15/2020</td>\n",
       "      <td>47.5627</td>\n",
       "      <td>42.6358</td>\n",
       "      <td>7</td>\n",
       "      <td>28.925</td>\n",
       "      <td>34.9</td>\n",
       "      <td>17.16</td>\n",
       "      <td>910.3</td>\n",
       "      <td>Лиственный лес</td>\n",
       "    </tr>\n",
       "  </tbody>\n",
       "</table>\n",
       "</div>"
      ],
      "text/plain": [
       "   Номер пожара       Дата        X        Y  Площадь, га  температура, °С  \\\n",
       "0        203679   7/5/2020  47.4856  42.9225          961           33.758   \n",
       "1        220864  7/30/2020  47.5192  42.8835           39           29.325   \n",
       "2        203570   7/5/2020  47.5200  42.8793           85           33.758   \n",
       "3        264514  10/1/2020  47.5151  42.8768            5           19.844   \n",
       "4        192992  6/15/2020  47.5627  42.6358            7           28.925   \n",
       "\n",
       "   относительная влажность, %  влажность почвы (в слое 0-10см), %  \\\n",
       "0                        20.1                               16.29   \n",
       "1                        30.1                               20.07   \n",
       "2                        20.1                               16.29   \n",
       "3                        47.0                               22.71   \n",
       "4                        34.9                               17.16   \n",
       "\n",
       "   атмосферное давление, мбар Тип растительности  \n",
       "0                       953.5                Луг  \n",
       "1                       962.1                Луг  \n",
       "2                       953.5                Луг  \n",
       "3                       959.2                Луг  \n",
       "4                       910.3     Лиственный лес  "
      ]
     },
     "execution_count": 3,
     "metadata": {},
     "output_type": "execute_result"
    }
   ],
   "source": [
    "df.head(5)"
   ]
  },
  {
   "cell_type": "markdown",
   "id": "confirmed-federation",
   "metadata": {},
   "source": [
    "### 1.1 Переименовываем колонки (на англ яз.)"
   ]
  },
  {
   "cell_type": "code",
   "execution_count": 4,
   "id": "published-death",
   "metadata": {},
   "outputs": [],
   "source": [
    "df.rename(columns={df.columns[0]: \"Fire number\", df.columns[1]: \"Date\", \n",
    "                   df.columns[4]: \"Area\", df.columns[5]: \"Temp\", df.columns[6]: \"Rel_hum\",\n",
    "                   df.columns[7]: \"Soil_moist\", df.columns[8]: \"Atm_pres\", df.columns[9]: \"V_type\"}, inplace = True)"
   ]
  },
  {
   "cell_type": "code",
   "execution_count": 5,
   "id": "agricultural-auction",
   "metadata": {
    "scrolled": true
   },
   "outputs": [
    {
     "data": {
      "text/html": [
       "<div>\n",
       "<style scoped>\n",
       "    .dataframe tbody tr th:only-of-type {\n",
       "        vertical-align: middle;\n",
       "    }\n",
       "\n",
       "    .dataframe tbody tr th {\n",
       "        vertical-align: top;\n",
       "    }\n",
       "\n",
       "    .dataframe thead th {\n",
       "        text-align: right;\n",
       "    }\n",
       "</style>\n",
       "<table border=\"1\" class=\"dataframe\">\n",
       "  <thead>\n",
       "    <tr style=\"text-align: right;\">\n",
       "      <th></th>\n",
       "      <th>Fire number</th>\n",
       "      <th>Date</th>\n",
       "      <th>X</th>\n",
       "      <th>Y</th>\n",
       "      <th>Area</th>\n",
       "      <th>Temp</th>\n",
       "      <th>Rel_hum</th>\n",
       "      <th>Soil_moist</th>\n",
       "      <th>Atm_pres</th>\n",
       "      <th>V_type</th>\n",
       "    </tr>\n",
       "  </thead>\n",
       "  <tbody>\n",
       "    <tr>\n",
       "      <th>0</th>\n",
       "      <td>203679</td>\n",
       "      <td>7/5/2020</td>\n",
       "      <td>47.4856</td>\n",
       "      <td>42.9225</td>\n",
       "      <td>961</td>\n",
       "      <td>33.758</td>\n",
       "      <td>20.1</td>\n",
       "      <td>16.29</td>\n",
       "      <td>953.5</td>\n",
       "      <td>Луг</td>\n",
       "    </tr>\n",
       "    <tr>\n",
       "      <th>1</th>\n",
       "      <td>220864</td>\n",
       "      <td>7/30/2020</td>\n",
       "      <td>47.5192</td>\n",
       "      <td>42.8835</td>\n",
       "      <td>39</td>\n",
       "      <td>29.325</td>\n",
       "      <td>30.1</td>\n",
       "      <td>20.07</td>\n",
       "      <td>962.1</td>\n",
       "      <td>Луг</td>\n",
       "    </tr>\n",
       "    <tr>\n",
       "      <th>2</th>\n",
       "      <td>203570</td>\n",
       "      <td>7/5/2020</td>\n",
       "      <td>47.5200</td>\n",
       "      <td>42.8793</td>\n",
       "      <td>85</td>\n",
       "      <td>33.758</td>\n",
       "      <td>20.1</td>\n",
       "      <td>16.29</td>\n",
       "      <td>953.5</td>\n",
       "      <td>Луг</td>\n",
       "    </tr>\n",
       "  </tbody>\n",
       "</table>\n",
       "</div>"
      ],
      "text/plain": [
       "   Fire number       Date        X        Y  Area    Temp  Rel_hum  \\\n",
       "0       203679   7/5/2020  47.4856  42.9225   961  33.758     20.1   \n",
       "1       220864  7/30/2020  47.5192  42.8835    39  29.325     30.1   \n",
       "2       203570   7/5/2020  47.5200  42.8793    85  33.758     20.1   \n",
       "\n",
       "   Soil_moist  Atm_pres V_type  \n",
       "0       16.29     953.5    Луг  \n",
       "1       20.07     962.1    Луг  \n",
       "2       16.29     953.5    Луг  "
      ]
     },
     "execution_count": 5,
     "metadata": {},
     "output_type": "execute_result"
    }
   ],
   "source": [
    "df.head(3)"
   ]
  },
  {
   "cell_type": "markdown",
   "id": "postal-error",
   "metadata": {},
   "source": [
    "### 1.2 Информация о данных"
   ]
  },
  {
   "cell_type": "code",
   "execution_count": 6,
   "id": "sized-greece",
   "metadata": {},
   "outputs": [
    {
     "name": "stdout",
     "output_type": "stream",
     "text": [
      "<class 'pandas.core.frame.DataFrame'>\n",
      "RangeIndex: 50 entries, 0 to 49\n",
      "Data columns (total 10 columns):\n",
      " #   Column       Non-Null Count  Dtype  \n",
      "---  ------       --------------  -----  \n",
      " 0   Fire number  50 non-null     int64  \n",
      " 1   Date         50 non-null     object \n",
      " 2   X            50 non-null     float64\n",
      " 3   Y            50 non-null     float64\n",
      " 4   Area         50 non-null     int64  \n",
      " 5   Temp         50 non-null     float64\n",
      " 6   Rel_hum      50 non-null     float64\n",
      " 7   Soil_moist   50 non-null     float64\n",
      " 8   Atm_pres     50 non-null     float64\n",
      " 9   V_type       50 non-null     object \n",
      "dtypes: float64(6), int64(2), object(2)\n",
      "memory usage: 4.0+ KB\n"
     ]
    }
   ],
   "source": [
    "df.info()"
   ]
  },
  {
   "cell_type": "code",
   "execution_count": 7,
   "id": "flying-bible",
   "metadata": {},
   "outputs": [
    {
     "data": {
      "text/html": [
       "<div>\n",
       "<style scoped>\n",
       "    .dataframe tbody tr th:only-of-type {\n",
       "        vertical-align: middle;\n",
       "    }\n",
       "\n",
       "    .dataframe tbody tr th {\n",
       "        vertical-align: top;\n",
       "    }\n",
       "\n",
       "    .dataframe thead th {\n",
       "        text-align: right;\n",
       "    }\n",
       "</style>\n",
       "<table border=\"1\" class=\"dataframe\">\n",
       "  <thead>\n",
       "    <tr style=\"text-align: right;\">\n",
       "      <th></th>\n",
       "      <th>Fire number</th>\n",
       "      <th>X</th>\n",
       "      <th>Y</th>\n",
       "      <th>Area</th>\n",
       "      <th>Temp</th>\n",
       "      <th>Rel_hum</th>\n",
       "      <th>Soil_moist</th>\n",
       "      <th>Atm_pres</th>\n",
       "    </tr>\n",
       "  </thead>\n",
       "  <tbody>\n",
       "    <tr>\n",
       "      <th>count</th>\n",
       "      <td>50.000000</td>\n",
       "      <td>50.000000</td>\n",
       "      <td>50.000000</td>\n",
       "      <td>50.000000</td>\n",
       "      <td>50.000000</td>\n",
       "      <td>50.000000</td>\n",
       "      <td>50.000000</td>\n",
       "      <td>50.000000</td>\n",
       "    </tr>\n",
       "    <tr>\n",
       "      <th>mean</th>\n",
       "      <td>142720.560000</td>\n",
       "      <td>47.167816</td>\n",
       "      <td>42.486856</td>\n",
       "      <td>97.300000</td>\n",
       "      <td>15.719600</td>\n",
       "      <td>49.792000</td>\n",
       "      <td>27.474200</td>\n",
       "      <td>886.344000</td>\n",
       "    </tr>\n",
       "    <tr>\n",
       "      <th>std</th>\n",
       "      <td>101281.342948</td>\n",
       "      <td>0.579267</td>\n",
       "      <td>0.481516</td>\n",
       "      <td>182.554465</td>\n",
       "      <td>9.055696</td>\n",
       "      <td>17.401816</td>\n",
       "      <td>7.481298</td>\n",
       "      <td>76.963363</td>\n",
       "    </tr>\n",
       "    <tr>\n",
       "      <th>min</th>\n",
       "      <td>13167.000000</td>\n",
       "      <td>45.830200</td>\n",
       "      <td>41.595000</td>\n",
       "      <td>3.000000</td>\n",
       "      <td>-2.390000</td>\n",
       "      <td>20.100000</td>\n",
       "      <td>14.080000</td>\n",
       "      <td>752.500000</td>\n",
       "    </tr>\n",
       "    <tr>\n",
       "      <th>25%</th>\n",
       "      <td>26566.000000</td>\n",
       "      <td>46.686825</td>\n",
       "      <td>42.171275</td>\n",
       "      <td>12.000000</td>\n",
       "      <td>9.900000</td>\n",
       "      <td>37.225000</td>\n",
       "      <td>21.995000</td>\n",
       "      <td>808.600000</td>\n",
       "    </tr>\n",
       "    <tr>\n",
       "      <th>50%</th>\n",
       "      <td>143065.500000</td>\n",
       "      <td>47.448850</td>\n",
       "      <td>42.336100</td>\n",
       "      <td>26.500000</td>\n",
       "      <td>14.334500</td>\n",
       "      <td>48.150000</td>\n",
       "      <td>27.755000</td>\n",
       "      <td>909.550000</td>\n",
       "    </tr>\n",
       "    <tr>\n",
       "      <th>75%</th>\n",
       "      <td>216748.000000</td>\n",
       "      <td>47.662750</td>\n",
       "      <td>42.882450</td>\n",
       "      <td>88.750000</td>\n",
       "      <td>19.646250</td>\n",
       "      <td>61.175000</td>\n",
       "      <td>30.717500</td>\n",
       "      <td>953.225000</td>\n",
       "    </tr>\n",
       "    <tr>\n",
       "      <th>max</th>\n",
       "      <td>293489.000000</td>\n",
       "      <td>47.834500</td>\n",
       "      <td>43.369900</td>\n",
       "      <td>961.000000</td>\n",
       "      <td>33.758000</td>\n",
       "      <td>90.700000</td>\n",
       "      <td>43.770000</td>\n",
       "      <td>1023.600000</td>\n",
       "    </tr>\n",
       "  </tbody>\n",
       "</table>\n",
       "</div>"
      ],
      "text/plain": [
       "         Fire number          X          Y        Area       Temp    Rel_hum  \\\n",
       "count      50.000000  50.000000  50.000000   50.000000  50.000000  50.000000   \n",
       "mean   142720.560000  47.167816  42.486856   97.300000  15.719600  49.792000   \n",
       "std    101281.342948   0.579267   0.481516  182.554465   9.055696  17.401816   \n",
       "min     13167.000000  45.830200  41.595000    3.000000  -2.390000  20.100000   \n",
       "25%     26566.000000  46.686825  42.171275   12.000000   9.900000  37.225000   \n",
       "50%    143065.500000  47.448850  42.336100   26.500000  14.334500  48.150000   \n",
       "75%    216748.000000  47.662750  42.882450   88.750000  19.646250  61.175000   \n",
       "max    293489.000000  47.834500  43.369900  961.000000  33.758000  90.700000   \n",
       "\n",
       "       Soil_moist     Atm_pres  \n",
       "count   50.000000    50.000000  \n",
       "mean    27.474200   886.344000  \n",
       "std      7.481298    76.963363  \n",
       "min     14.080000   752.500000  \n",
       "25%     21.995000   808.600000  \n",
       "50%     27.755000   909.550000  \n",
       "75%     30.717500   953.225000  \n",
       "max     43.770000  1023.600000  "
      ]
     },
     "execution_count": 7,
     "metadata": {},
     "output_type": "execute_result"
    }
   ],
   "source": [
    "df.describe()"
   ]
  },
  {
   "cell_type": "markdown",
   "id": "electric-master",
   "metadata": {},
   "source": [
    "## 2. Визуализация"
   ]
  },
  {
   "cell_type": "code",
   "execution_count": 8,
   "id": "copyrighted-indonesian",
   "metadata": {},
   "outputs": [
    {
     "data": {
      "image/png": "[encoded data removed]",
      "text/plain": [
       "<Figure size 1440x1440 with 72 Axes>"
      ]
     },
     "metadata": {
      "needs_background": "light"
     },
     "output_type": "display_data"
    }
   ],
   "source": [
    "sns.pairplot(df[:]);"
   ]
  },
  {
   "cell_type": "markdown",
   "id": "ecological-internet",
   "metadata": {},
   "source": [
    "### 2.1 Кол-во пожаров по типам растительности (V_type)"
   ]
  },
  {
   "cell_type": "markdown",
   "id": "tight-psychiatry",
   "metadata": {},
   "source": [
    "#### кол-во уникальных значений (V_type)"
   ]
  },
  {
   "cell_type": "code",
   "execution_count": 9,
   "id": "considerable-covering",
   "metadata": {},
   "outputs": [
    {
     "data": {
      "text/plain": [
       "Луг                 26\n",
       "Лиственный лес      23\n",
       "Темнохвойный лес     1\n",
       "Name: V_type, dtype: int64"
      ]
     },
     "execution_count": 9,
     "metadata": {},
     "output_type": "execute_result"
    }
   ],
   "source": [
    "df['V_type'].value_counts()"
   ]
  },
  {
   "cell_type": "code",
   "execution_count": 10,
   "id": "unlimited-swedish",
   "metadata": {},
   "outputs": [
    {
     "data": {
      "image/png": "[encoded data removed]",
      "text/plain": [
       "<Figure size 432x288 with 1 Axes>"
      ]
     },
     "metadata": {
      "needs_background": "light"
     },
     "output_type": "display_data"
    }
   ],
   "source": [
    "sns.countplot(x=df['V_type'], hue=df['V_type']);"
   ]
  },
  {
   "cell_type": "markdown",
   "id": "incoming-third",
   "metadata": {},
   "source": [
    "### 2.2 Добавляем новый признак (месяц)"
   ]
  },
  {
   "cell_type": "code",
   "execution_count": 11,
   "id": "devoted-armor",
   "metadata": {},
   "outputs": [],
   "source": [
    "# date.split('/')[0] - номер месяца\n",
    "\n",
    "df['Num_month'] = df['Date'].apply(lambda date: int(date.split('/')[0]))"
   ]
  },
  {
   "cell_type": "code",
   "execution_count": 12,
   "id": "republican-slide",
   "metadata": {},
   "outputs": [
    {
     "data": {
      "text/html": [
       "<div>\n",
       "<style scoped>\n",
       "    .dataframe tbody tr th:only-of-type {\n",
       "        vertical-align: middle;\n",
       "    }\n",
       "\n",
       "    .dataframe tbody tr th {\n",
       "        vertical-align: top;\n",
       "    }\n",
       "\n",
       "    .dataframe thead th {\n",
       "        text-align: right;\n",
       "    }\n",
       "</style>\n",
       "<table border=\"1\" class=\"dataframe\">\n",
       "  <thead>\n",
       "    <tr style=\"text-align: right;\">\n",
       "      <th></th>\n",
       "      <th>Fire number</th>\n",
       "      <th>Date</th>\n",
       "      <th>X</th>\n",
       "      <th>Y</th>\n",
       "      <th>Area</th>\n",
       "      <th>Temp</th>\n",
       "      <th>Rel_hum</th>\n",
       "      <th>Soil_moist</th>\n",
       "      <th>Atm_pres</th>\n",
       "      <th>V_type</th>\n",
       "      <th>Num_month</th>\n",
       "    </tr>\n",
       "  </thead>\n",
       "  <tbody>\n",
       "    <tr>\n",
       "      <th>0</th>\n",
       "      <td>203679</td>\n",
       "      <td>7/5/2020</td>\n",
       "      <td>47.4856</td>\n",
       "      <td>42.9225</td>\n",
       "      <td>961</td>\n",
       "      <td>33.758</td>\n",
       "      <td>20.1</td>\n",
       "      <td>16.29</td>\n",
       "      <td>953.5</td>\n",
       "      <td>Луг</td>\n",
       "      <td>7</td>\n",
       "    </tr>\n",
       "    <tr>\n",
       "      <th>1</th>\n",
       "      <td>220864</td>\n",
       "      <td>7/30/2020</td>\n",
       "      <td>47.5192</td>\n",
       "      <td>42.8835</td>\n",
       "      <td>39</td>\n",
       "      <td>29.325</td>\n",
       "      <td>30.1</td>\n",
       "      <td>20.07</td>\n",
       "      <td>962.1</td>\n",
       "      <td>Луг</td>\n",
       "      <td>7</td>\n",
       "    </tr>\n",
       "    <tr>\n",
       "      <th>2</th>\n",
       "      <td>203570</td>\n",
       "      <td>7/5/2020</td>\n",
       "      <td>47.5200</td>\n",
       "      <td>42.8793</td>\n",
       "      <td>85</td>\n",
       "      <td>33.758</td>\n",
       "      <td>20.1</td>\n",
       "      <td>16.29</td>\n",
       "      <td>953.5</td>\n",
       "      <td>Луг</td>\n",
       "      <td>7</td>\n",
       "    </tr>\n",
       "    <tr>\n",
       "      <th>3</th>\n",
       "      <td>264514</td>\n",
       "      <td>10/1/2020</td>\n",
       "      <td>47.5151</td>\n",
       "      <td>42.8768</td>\n",
       "      <td>5</td>\n",
       "      <td>19.844</td>\n",
       "      <td>47.0</td>\n",
       "      <td>22.71</td>\n",
       "      <td>959.2</td>\n",
       "      <td>Луг</td>\n",
       "      <td>10</td>\n",
       "    </tr>\n",
       "    <tr>\n",
       "      <th>4</th>\n",
       "      <td>192992</td>\n",
       "      <td>6/15/2020</td>\n",
       "      <td>47.5627</td>\n",
       "      <td>42.6358</td>\n",
       "      <td>7</td>\n",
       "      <td>28.925</td>\n",
       "      <td>34.9</td>\n",
       "      <td>17.16</td>\n",
       "      <td>910.3</td>\n",
       "      <td>Лиственный лес</td>\n",
       "      <td>6</td>\n",
       "    </tr>\n",
       "  </tbody>\n",
       "</table>\n",
       "</div>"
      ],
      "text/plain": [
       "   Fire number       Date        X        Y  Area    Temp  Rel_hum  \\\n",
       "0       203679   7/5/2020  47.4856  42.9225   961  33.758     20.1   \n",
       "1       220864  7/30/2020  47.5192  42.8835    39  29.325     30.1   \n",
       "2       203570   7/5/2020  47.5200  42.8793    85  33.758     20.1   \n",
       "3       264514  10/1/2020  47.5151  42.8768     5  19.844     47.0   \n",
       "4       192992  6/15/2020  47.5627  42.6358     7  28.925     34.9   \n",
       "\n",
       "   Soil_moist  Atm_pres          V_type  Num_month  \n",
       "0       16.29     953.5             Луг          7  \n",
       "1       20.07     962.1             Луг          7  \n",
       "2       16.29     953.5             Луг          7  \n",
       "3       22.71     959.2             Луг         10  \n",
       "4       17.16     910.3  Лиственный лес          6  "
      ]
     },
     "execution_count": 12,
     "metadata": {},
     "output_type": "execute_result"
    }
   ],
   "source": [
    "df.head()"
   ]
  },
  {
   "cell_type": "code",
   "execution_count": 13,
   "id": "material-former",
   "metadata": {},
   "outputs": [],
   "source": [
    "### функция для преобразования номера месяца в название месяца\n",
    "def to_month(num_month):\n",
    "    months = ['jan', 'feb', 'mar', 'apr', 'may', 'jun', 'jul', 'aug', 'sep', 'oct', 'nov', 'dec']\n",
    "    return months[num_month - 1]\n",
    "\n",
    "### функция для преобразования даты в день недели\n",
    "def to_day_week(date):\n",
    "    month = int(date.split('/')[0])\n",
    "    day = int(date.split('/')[1])\n",
    "    year = int(date.split('/')[2])\n",
    "    today = datetime.datetime(year, month, day)\n",
    "    num_day_week = today.weekday()\n",
    "    days_week = ['mon', 'tue', 'wed', 'thu', 'fri', 'sat', 'sun']\n",
    "    return days_week[num_day_week]"
   ]
  },
  {
   "cell_type": "markdown",
   "id": "exposed-ethernet",
   "metadata": {},
   "source": [
    "### 2.3 Кол-во пожаров по месяцам каждой растительности "
   ]
  },
  {
   "cell_type": "code",
   "execution_count": 14,
   "id": "caring-charlotte",
   "metadata": {
    "scrolled": true
   },
   "outputs": [
    {
     "data": {
      "image/png": "[encoded data removed]",
      "text/plain": [
       "<Figure size 432x288 with 1 Axes>"
      ]
     },
     "metadata": {
      "needs_background": "light"
     },
     "output_type": "display_data"
    }
   ],
   "source": [
    "### to_month(num_month) - преобразуем номер в название месяца\n",
    "sns.countplot(x=df['Num_month'].apply(lambda num_month: to_month(num_month)), hue=df['V_type']);  "
   ]
  },
  {
   "cell_type": "markdown",
   "id": "fundamental-hearts",
   "metadata": {},
   "source": [
    "### 2.4 Кол-во пожаров по дням недели каждой растительности "
   ]
  },
  {
   "cell_type": "code",
   "execution_count": 15,
   "id": "wooden-application",
   "metadata": {},
   "outputs": [
    {
     "data": {
      "image/png": "[encoded data removed]",
      "text/plain": [
       "<Figure size 432x288 with 1 Axes>"
      ]
     },
     "metadata": {
      "needs_background": "light"
     },
     "output_type": "display_data"
    }
   ],
   "source": [
    "### to_day_week(date) - преобразуем дату в название дня недели\n",
    "sns.countplot(x=df['Date'].apply(lambda date: to_day_week(date)), hue=df['V_type']);"
   ]
  },
  {
   "cell_type": "markdown",
   "id": "understanding-carry",
   "metadata": {},
   "source": [
    "### 2.5 Распределение Area и Temp для каждого пожара"
   ]
  },
  {
   "cell_type": "code",
   "execution_count": 16,
   "id": "above-injection",
   "metadata": {},
   "outputs": [
    {
     "data": {
      "image/png": "[encoded data removed]",
      "text/plain": [
       "<Figure size 504x504 with 1 Axes>"
      ]
     },
     "metadata": {
      "needs_background": "light"
     },
     "output_type": "display_data"
    }
   ],
   "source": [
    "lugs = df[(df['V_type'] == 'Луг')]\n",
    "listv_forest = df[(df['V_type'] == 'Лиственный лес')]\n",
    "temn_forest = df[(df['V_type'] == 'Темнохвойный лес')]\n",
    "\n",
    "plt.figure(figsize=(7, 7))\n",
    "plt.scatter(lugs['Temp'], lugs['Area'], color='orange', label='Луг');\n",
    "plt.scatter(listv_forest['Temp'], listv_forest['Area'], color='blue', label='Лиственный лес');\n",
    "plt.scatter(temn_forest['Temp'], temn_forest['Area'], color='green', label='Темнохвойный лес');\n",
    "\n",
    "plt.xlabel('Температура');\n",
    "plt.ylabel('Площадь пожара');\n",
    "plt.title('Распределение Area и Temp для каждого пожара');\n",
    "plt.legend();"
   ]
  },
  {
   "cell_type": "markdown",
   "id": "surprised-graham",
   "metadata": {},
   "source": [
    "### 2.6 Распределение Area и Soil_moist для каждого пожара"
   ]
  },
  {
   "cell_type": "code",
   "execution_count": 17,
   "id": "apparent-impression",
   "metadata": {},
   "outputs": [
    {
     "data": {
      "image/png": "[encoded data removed]",
      "text/plain": [
       "<Figure size 504x504 with 1 Axes>"
      ]
     },
     "metadata": {
      "needs_background": "light"
     },
     "output_type": "display_data"
    }
   ],
   "source": [
    "lugs = df[(df['V_type'] == 'Луг')]\n",
    "listv_forest = df[(df['V_type'] == 'Лиственный лес')]\n",
    "temn_forest = df[(df['V_type'] == 'Темнохвойный лес')]\n",
    "\n",
    "plt.figure(figsize=(7, 7))\n",
    "plt.scatter(lugs['Soil_moist'], lugs['Area'], color='orange', label='Луг');\n",
    "plt.scatter(listv_forest['Soil_moist'], listv_forest['Area'], color='blue', label='Лиственный лес');\n",
    "plt.scatter(temn_forest['Soil_moist'], temn_forest['Area'], color='green', label='Темнохвойный лес');\n",
    "\n",
    "plt.xlabel('Влажность почвы (0-10см), %');\n",
    "plt.ylabel('Площадь пожара');\n",
    "plt.title('Распределение Area и Soil_moist для каждого пожара');\n",
    "plt.legend();"
   ]
  },
  {
   "cell_type": "markdown",
   "id": "consecutive-qualification",
   "metadata": {},
   "source": [
    "## 3. Строим модель и прогнозируем площадь пожара"
   ]
  },
  {
   "cell_type": "markdown",
   "id": "flying-excerpt",
   "metadata": {},
   "source": [
    "### 3.1 Удаляем незначительные признаки и меняем значения признака V_type"
   ]
  },
  {
   "cell_type": "code",
   "execution_count": 18,
   "id": "committed-college",
   "metadata": {},
   "outputs": [
    {
     "data": {
      "text/html": [
       "<div>\n",
       "<style scoped>\n",
       "    .dataframe tbody tr th:only-of-type {\n",
       "        vertical-align: middle;\n",
       "    }\n",
       "\n",
       "    .dataframe tbody tr th {\n",
       "        vertical-align: top;\n",
       "    }\n",
       "\n",
       "    .dataframe thead th {\n",
       "        text-align: right;\n",
       "    }\n",
       "</style>\n",
       "<table border=\"1\" class=\"dataframe\">\n",
       "  <thead>\n",
       "    <tr style=\"text-align: right;\">\n",
       "      <th></th>\n",
       "      <th>Fire number</th>\n",
       "      <th>Date</th>\n",
       "      <th>X</th>\n",
       "      <th>Y</th>\n",
       "      <th>Area</th>\n",
       "      <th>Temp</th>\n",
       "      <th>Rel_hum</th>\n",
       "      <th>Soil_moist</th>\n",
       "      <th>Atm_pres</th>\n",
       "      <th>V_type</th>\n",
       "      <th>Num_month</th>\n",
       "    </tr>\n",
       "  </thead>\n",
       "  <tbody>\n",
       "    <tr>\n",
       "      <th>0</th>\n",
       "      <td>203679</td>\n",
       "      <td>7/5/2020</td>\n",
       "      <td>47.4856</td>\n",
       "      <td>42.9225</td>\n",
       "      <td>961</td>\n",
       "      <td>33.758</td>\n",
       "      <td>20.1</td>\n",
       "      <td>16.29</td>\n",
       "      <td>953.5</td>\n",
       "      <td>Луг</td>\n",
       "      <td>7</td>\n",
       "    </tr>\n",
       "    <tr>\n",
       "      <th>1</th>\n",
       "      <td>220864</td>\n",
       "      <td>7/30/2020</td>\n",
       "      <td>47.5192</td>\n",
       "      <td>42.8835</td>\n",
       "      <td>39</td>\n",
       "      <td>29.325</td>\n",
       "      <td>30.1</td>\n",
       "      <td>20.07</td>\n",
       "      <td>962.1</td>\n",
       "      <td>Луг</td>\n",
       "      <td>7</td>\n",
       "    </tr>\n",
       "    <tr>\n",
       "      <th>2</th>\n",
       "      <td>203570</td>\n",
       "      <td>7/5/2020</td>\n",
       "      <td>47.5200</td>\n",
       "      <td>42.8793</td>\n",
       "      <td>85</td>\n",
       "      <td>33.758</td>\n",
       "      <td>20.1</td>\n",
       "      <td>16.29</td>\n",
       "      <td>953.5</td>\n",
       "      <td>Луг</td>\n",
       "      <td>7</td>\n",
       "    </tr>\n",
       "    <tr>\n",
       "      <th>3</th>\n",
       "      <td>264514</td>\n",
       "      <td>10/1/2020</td>\n",
       "      <td>47.5151</td>\n",
       "      <td>42.8768</td>\n",
       "      <td>5</td>\n",
       "      <td>19.844</td>\n",
       "      <td>47.0</td>\n",
       "      <td>22.71</td>\n",
       "      <td>959.2</td>\n",
       "      <td>Луг</td>\n",
       "      <td>10</td>\n",
       "    </tr>\n",
       "    <tr>\n",
       "      <th>4</th>\n",
       "      <td>192992</td>\n",
       "      <td>6/15/2020</td>\n",
       "      <td>47.5627</td>\n",
       "      <td>42.6358</td>\n",
       "      <td>7</td>\n",
       "      <td>28.925</td>\n",
       "      <td>34.9</td>\n",
       "      <td>17.16</td>\n",
       "      <td>910.3</td>\n",
       "      <td>Лиственный лес</td>\n",
       "      <td>6</td>\n",
       "    </tr>\n",
       "  </tbody>\n",
       "</table>\n",
       "</div>"
      ],
      "text/plain": [
       "   Fire number       Date        X        Y  Area    Temp  Rel_hum  \\\n",
       "0       203679   7/5/2020  47.4856  42.9225   961  33.758     20.1   \n",
       "1       220864  7/30/2020  47.5192  42.8835    39  29.325     30.1   \n",
       "2       203570   7/5/2020  47.5200  42.8793    85  33.758     20.1   \n",
       "3       264514  10/1/2020  47.5151  42.8768     5  19.844     47.0   \n",
       "4       192992  6/15/2020  47.5627  42.6358     7  28.925     34.9   \n",
       "\n",
       "   Soil_moist  Atm_pres          V_type  Num_month  \n",
       "0       16.29     953.5             Луг          7  \n",
       "1       20.07     962.1             Луг          7  \n",
       "2       16.29     953.5             Луг          7  \n",
       "3       22.71     959.2             Луг         10  \n",
       "4       17.16     910.3  Лиственный лес          6  "
      ]
     },
     "execution_count": 18,
     "metadata": {},
     "output_type": "execute_result"
    }
   ],
   "source": [
    "df.head()"
   ]
  },
  {
   "cell_type": "code",
   "execution_count": 19,
   "id": "frozen-satellite",
   "metadata": {},
   "outputs": [],
   "source": [
    "df.drop(['Fire number', 'X', 'Y', 'Date', 'Num_month'], axis=1, inplace=True)"
   ]
  },
  {
   "cell_type": "code",
   "execution_count": 20,
   "id": "dried-penguin",
   "metadata": {},
   "outputs": [],
   "source": [
    "df['V_type'] = df['V_type'].map({'Луг': 0, 'Лиственный лес': 1, 'Темнохвойный лес': 2})"
   ]
  },
  {
   "cell_type": "code",
   "execution_count": 21,
   "id": "after-workstation",
   "metadata": {},
   "outputs": [
    {
     "data": {
      "text/html": [
       "<div>\n",
       "<style scoped>\n",
       "    .dataframe tbody tr th:only-of-type {\n",
       "        vertical-align: middle;\n",
       "    }\n",
       "\n",
       "    .dataframe tbody tr th {\n",
       "        vertical-align: top;\n",
       "    }\n",
       "\n",
       "    .dataframe thead th {\n",
       "        text-align: right;\n",
       "    }\n",
       "</style>\n",
       "<table border=\"1\" class=\"dataframe\">\n",
       "  <thead>\n",
       "    <tr style=\"text-align: right;\">\n",
       "      <th></th>\n",
       "      <th>Area</th>\n",
       "      <th>Temp</th>\n",
       "      <th>Rel_hum</th>\n",
       "      <th>Soil_moist</th>\n",
       "      <th>Atm_pres</th>\n",
       "      <th>V_type</th>\n",
       "    </tr>\n",
       "  </thead>\n",
       "  <tbody>\n",
       "    <tr>\n",
       "      <th>0</th>\n",
       "      <td>961</td>\n",
       "      <td>33.758</td>\n",
       "      <td>20.1</td>\n",
       "      <td>16.29</td>\n",
       "      <td>953.5</td>\n",
       "      <td>0</td>\n",
       "    </tr>\n",
       "    <tr>\n",
       "      <th>1</th>\n",
       "      <td>39</td>\n",
       "      <td>29.325</td>\n",
       "      <td>30.1</td>\n",
       "      <td>20.07</td>\n",
       "      <td>962.1</td>\n",
       "      <td>0</td>\n",
       "    </tr>\n",
       "    <tr>\n",
       "      <th>2</th>\n",
       "      <td>85</td>\n",
       "      <td>33.758</td>\n",
       "      <td>20.1</td>\n",
       "      <td>16.29</td>\n",
       "      <td>953.5</td>\n",
       "      <td>0</td>\n",
       "    </tr>\n",
       "    <tr>\n",
       "      <th>3</th>\n",
       "      <td>5</td>\n",
       "      <td>19.844</td>\n",
       "      <td>47.0</td>\n",
       "      <td>22.71</td>\n",
       "      <td>959.2</td>\n",
       "      <td>0</td>\n",
       "    </tr>\n",
       "    <tr>\n",
       "      <th>4</th>\n",
       "      <td>7</td>\n",
       "      <td>28.925</td>\n",
       "      <td>34.9</td>\n",
       "      <td>17.16</td>\n",
       "      <td>910.3</td>\n",
       "      <td>1</td>\n",
       "    </tr>\n",
       "  </tbody>\n",
       "</table>\n",
       "</div>"
      ],
      "text/plain": [
       "   Area    Temp  Rel_hum  Soil_moist  Atm_pres  V_type\n",
       "0   961  33.758     20.1       16.29     953.5       0\n",
       "1    39  29.325     30.1       20.07     962.1       0\n",
       "2    85  33.758     20.1       16.29     953.5       0\n",
       "3     5  19.844     47.0       22.71     959.2       0\n",
       "4     7  28.925     34.9       17.16     910.3       1"
      ]
     },
     "execution_count": 21,
     "metadata": {},
     "output_type": "execute_result"
    }
   ],
   "source": [
    "df.head()"
   ]
  },
  {
   "cell_type": "markdown",
   "id": "crude-action",
   "metadata": {},
   "source": [
    "### 3.2 Создание модели \"Дерево решений\""
   ]
  },
  {
   "cell_type": "markdown",
   "id": "sharing-scottish",
   "metadata": {},
   "source": [
    "#### делим данные на 70% и 10%"
   ]
  },
  {
   "cell_type": "code",
   "execution_count": null,
   "id": "varied-airfare",
   "metadata": {},
   "outputs": [],
   "source": [
    "df = pd.read_csv(\"main2/Data.csv\") "
   ]
  },
  {
   "cell_type": "code",
   "execution_count": 22,
   "id": "vietnamese-quick",
   "metadata": {},
   "outputs": [],
   "source": [
    "y = df['Area'].astype('int')\n",
    "X = df.drop('Area', axis=1)"
   ]
  },
  {
   "cell_type": "code",
   "execution_count": 23,
   "id": "selective-ottawa",
   "metadata": {},
   "outputs": [],
   "source": [
    "X_train, X_valid, y_train, y_valid = train_test_split(X, y, test_size=0.02, random_state=17)"
   ]
  },
  {
   "cell_type": "code",
   "execution_count": 24,
   "id": "polyphonic-addition",
   "metadata": {},
   "outputs": [
    {
     "data": {
      "text/plain": [
       "44    75\n",
       "Name: Area, dtype: int32"
      ]
     },
     "execution_count": 24,
     "metadata": {},
     "output_type": "execute_result"
    }
   ],
   "source": [
    "y_valid"
   ]
  },
  {
   "cell_type": "code",
   "execution_count": 25,
   "id": "alternative-munich",
   "metadata": {},
   "outputs": [
    {
     "data": {
      "text/plain": [
       "((49, 5), (1, 5))"
      ]
     },
     "execution_count": 25,
     "metadata": {},
     "output_type": "execute_result"
    }
   ],
   "source": [
    "X_train.shape, X_valid.shape"
   ]
  },
  {
   "cell_type": "code",
   "execution_count": 26,
   "id": "adjacent-literacy",
   "metadata": {},
   "outputs": [
    {
     "data": {
      "text/html": [
       "<div>\n",
       "<style scoped>\n",
       "    .dataframe tbody tr th:only-of-type {\n",
       "        vertical-align: middle;\n",
       "    }\n",
       "\n",
       "    .dataframe tbody tr th {\n",
       "        vertical-align: top;\n",
       "    }\n",
       "\n",
       "    .dataframe thead th {\n",
       "        text-align: right;\n",
       "    }\n",
       "</style>\n",
       "<table border=\"1\" class=\"dataframe\">\n",
       "  <thead>\n",
       "    <tr style=\"text-align: right;\">\n",
       "      <th></th>\n",
       "      <th>Temp</th>\n",
       "      <th>Rel_hum</th>\n",
       "      <th>Soil_moist</th>\n",
       "      <th>Atm_pres</th>\n",
       "      <th>V_type</th>\n",
       "    </tr>\n",
       "  </thead>\n",
       "  <tbody>\n",
       "    <tr>\n",
       "      <th>44</th>\n",
       "      <td>-2.39</td>\n",
       "      <td>90.7</td>\n",
       "      <td>43.77</td>\n",
       "      <td>752.9</td>\n",
       "      <td>0</td>\n",
       "    </tr>\n",
       "  </tbody>\n",
       "</table>\n",
       "</div>"
      ],
      "text/plain": [
       "    Temp  Rel_hum  Soil_moist  Atm_pres  V_type\n",
       "44 -2.39     90.7       43.77     752.9       0"
      ]
     },
     "execution_count": 26,
     "metadata": {},
     "output_type": "execute_result"
    }
   ],
   "source": [
    "X_valid.head()"
   ]
  },
  {
   "cell_type": "code",
   "execution_count": 27,
   "id": "persistent-spelling",
   "metadata": {},
   "outputs": [],
   "source": [
    "from sklearn.neighbors import KNeighborsClassifier\n",
    "first_knn = KNeighborsClassifier()"
   ]
  },
  {
   "cell_type": "code",
   "execution_count": 28,
   "id": "exciting-barrier",
   "metadata": {},
   "outputs": [
    {
     "name": "stderr",
     "output_type": "stream",
     "text": [
      "c:\\users\\user\\appdata\\local\\programs\\python\\python39\\lib\\site-packages\\sklearn\\model_selection\\_split.py:666: UserWarning: The least populated class in y has only 1 members, which is less than n_splits=4.\n",
      "  warnings.warn((\"The least populated class in y has only %d\"\n"
     ]
    },
    {
     "data": {
      "text/plain": [
       "0.06089743589743589"
      ]
     },
     "execution_count": 28,
     "metadata": {},
     "output_type": "execute_result"
    }
   ],
   "source": [
    "np.mean(cross_val_score(first_knn, X_train, y_train, cv=4)) "
   ]
  },
  {
   "cell_type": "code",
   "execution_count": 29,
   "id": "general-bibliography",
   "metadata": {},
   "outputs": [],
   "source": [
    "knn_params = {'n_neighbors': range(5, 30, 5)} #+ list(range(50, 100, 10))}"
   ]
  },
  {
   "cell_type": "code",
   "execution_count": 30,
   "id": "southeast-singapore",
   "metadata": {},
   "outputs": [],
   "source": [
    "from sklearn.model_selection import GridSearchCV\n",
    "knn_grid = GridSearchCV(first_knn, knn_params, cv=4)"
   ]
  },
  {
   "cell_type": "code",
   "execution_count": 31,
   "id": "threatened-price",
   "metadata": {},
   "outputs": [
    {
     "name": "stderr",
     "output_type": "stream",
     "text": [
      "c:\\users\\user\\appdata\\local\\programs\\python\\python39\\lib\\site-packages\\sklearn\\model_selection\\_split.py:666: UserWarning: The least populated class in y has only 1 members, which is less than n_splits=4.\n",
      "  warnings.warn((\"The least populated class in y has only %d\"\n"
     ]
    },
    {
     "name": "stdout",
     "output_type": "stream",
     "text": [
      "Wall time: 96.6 ms\n"
     ]
    },
    {
     "data": {
      "text/plain": [
       "GridSearchCV(cv=4, estimator=KNeighborsClassifier(),\n",
       "             param_grid={'n_neighbors': range(5, 30, 5)})"
      ]
     },
     "execution_count": 31,
     "metadata": {},
     "output_type": "execute_result"
    }
   ],
   "source": [
    "%%time\n",
    "knn_grid.fit(X_train, y_train)"
   ]
  },
  {
   "cell_type": "code",
   "execution_count": 32,
   "id": "former-pipeline",
   "metadata": {},
   "outputs": [
    {
     "data": {
      "text/plain": [
       "(0.08173076923076922, {'n_neighbors': 15})"
      ]
     },
     "execution_count": 32,
     "metadata": {},
     "output_type": "execute_result"
    }
   ],
   "source": [
    "knn_grid.best_score_, knn_grid.best_params_"
   ]
  },
  {
   "cell_type": "code",
   "execution_count": 33,
   "id": "removed-resort",
   "metadata": {},
   "outputs": [
    {
     "data": {
      "text/html": [
       "<div>\n",
       "<style scoped>\n",
       "    .dataframe tbody tr th:only-of-type {\n",
       "        vertical-align: middle;\n",
       "    }\n",
       "\n",
       "    .dataframe tbody tr th {\n",
       "        vertical-align: top;\n",
       "    }\n",
       "\n",
       "    .dataframe thead th {\n",
       "        text-align: right;\n",
       "    }\n",
       "</style>\n",
       "<table border=\"1\" class=\"dataframe\">\n",
       "  <thead>\n",
       "    <tr style=\"text-align: right;\">\n",
       "      <th></th>\n",
       "      <th>Temp</th>\n",
       "      <th>Rel_hum</th>\n",
       "      <th>Soil_moist</th>\n",
       "      <th>Atm_pres</th>\n",
       "      <th>V_type</th>\n",
       "    </tr>\n",
       "  </thead>\n",
       "  <tbody>\n",
       "    <tr>\n",
       "      <th>44</th>\n",
       "      <td>-2.39</td>\n",
       "      <td>90.7</td>\n",
       "      <td>43.77</td>\n",
       "      <td>752.9</td>\n",
       "      <td>0</td>\n",
       "    </tr>\n",
       "  </tbody>\n",
       "</table>\n",
       "</div>"
      ],
      "text/plain": [
       "    Temp  Rel_hum  Soil_moist  Atm_pres  V_type\n",
       "44 -2.39     90.7       43.77     752.9       0"
      ]
     },
     "execution_count": 33,
     "metadata": {},
     "output_type": "execute_result"
    }
   ],
   "source": [
    "X_valid"
   ]
  },
  {
   "cell_type": "code",
   "execution_count": 34,
   "id": "sitting-speech",
   "metadata": {},
   "outputs": [],
   "source": [
    "tree_valid_pred = knn_grid.predict(X_valid)"
   ]
  },
  {
   "cell_type": "code",
   "execution_count": 35,
   "id": "organizational-february",
   "metadata": {},
   "outputs": [
    {
     "data": {
      "text/plain": [
       "array([71])"
      ]
     },
     "execution_count": 35,
     "metadata": {},
     "output_type": "execute_result"
    }
   ],
   "source": [
    "tree_valid_pred"
   ]
  },
  {
   "cell_type": "code",
   "execution_count": 36,
   "id": "orange-georgia",
   "metadata": {},
   "outputs": [],
   "source": [
    "from sklearn.metrics import accuracy_score\n"
   ]
  },
  {
   "cell_type": "code",
   "execution_count": 37,
   "id": "august-literature",
   "metadata": {},
   "outputs": [
    {
     "data": {
      "text/plain": [
       "0.0"
      ]
     },
     "execution_count": 37,
     "metadata": {},
     "output_type": "execute_result"
    }
   ],
   "source": [
    "accuracy_score(y_valid, tree_valid_pred)"
   ]
  },
  {
   "cell_type": "code",
   "execution_count": 38,
   "id": "right-society",
   "metadata": {},
   "outputs": [
    {
     "data": {
      "text/plain": [
       "-96.3"
      ]
     },
     "execution_count": 38,
     "metadata": {},
     "output_type": "execute_result"
    }
   ],
   "source": [
    "1 - np.mean(y)"
   ]
  },
  {
   "cell_type": "code",
   "execution_count": null,
   "id": "proprietary-overview",
   "metadata": {},
   "outputs": [],
   "source": []
  },
  {
   "cell_type": "code",
   "execution_count": null,
   "id": "reserved-collector",
   "metadata": {},
   "outputs": [],
   "source": []
  },
  {
   "cell_type": "code",
   "execution_count": null,
   "id": "genetic-volume",
   "metadata": {},
   "outputs": [],
   "source": []
  },
  {
   "cell_type": "code",
   "execution_count": null,
   "id": "hidden-hunger",
   "metadata": {},
   "outputs": [],
   "source": []
  },
  {
   "cell_type": "code",
   "execution_count": null,
   "id": "boxed-harris",
   "metadata": {},
   "outputs": [],
   "source": []
  },
  {
   "cell_type": "code",
   "execution_count": null,
   "id": "provincial-production",
   "metadata": {},
   "outputs": [],
   "source": []
  }
 ],
 "metadata": {
  "kernelspec": {
   "display_name": "Python 3",
   "language": "python",
   "name": "python3"
  },
  "language_info": {
   "codemirror_mode": {
    "name": "ipython",
    "version": 3
   },
   "file_extension": ".py",
   "mimetype": "text/x-python",
   "name": "python",
   "nbconvert_exporter": "python",
   "pygments_lexer": "ipython3",
   "version": "3.9.2"
  }
 },
 "nbformat": 4,
 "nbformat_minor": 5
}
